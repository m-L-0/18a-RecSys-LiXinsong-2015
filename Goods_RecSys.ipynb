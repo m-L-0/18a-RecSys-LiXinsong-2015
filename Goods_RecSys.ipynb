{
 "cells": [
  {
   "cell_type": "code",
   "execution_count": 1,
   "metadata": {},
   "outputs": [],
   "source": [
    "##################################\n",
    "#\n",
    "#  name : lixinsong\n",
    "#  \n",
    "#  date : 2018-06-30 \n",
    "#\n",
    "###################################"
   ]
  },
  {
   "cell_type": "code",
   "execution_count": 2,
   "metadata": {},
   "outputs": [],
   "source": [
    "# 加载数据 \n",
    "\n",
    "def load_movielens(path='./ml-100k'):\n",
    "    # get movie titles\n",
    "    movies = {}\n",
    "    for line in open(path + '/u.item', encoding='latin-1'):\n",
    "        id, title = line.split('|')[0:2]\n",
    "        movies[id] = title\n",
    "    # load data\n",
    "    prefs = {}\n",
    "    for line in open(path + '/u.data', encoding='latin-1'):\n",
    "        user, movieid, rating, ts = line.split('\\t')\n",
    "        prefs.setdefault(user, {})\n",
    "        prefs[user][movies[movieid]] = float(rating)\n",
    "    return prefs"
   ]
  },
  {
   "cell_type": "code",
   "execution_count": 3,
   "metadata": {},
   "outputs": [
    {
     "name": "stdout",
     "output_type": "stream",
     "text": [
      "{'Naked Gun 33 1/3: The Final Insult (1994)': 4.0, 'Con Air (1997)': 4.0, 'Sabrina (1995)': 4.0, 'Waterworld (1995)': 4.0, 'To Wong Foo, Thanks for Everything! Julie Newmar (1995)': 3.0, 'Clueless (1995)': 4.0, 'Jurassic Park (1993)': 5.0, 'Brady Bunch Movie, The (1995)': 2.0, 'Son in Law (1993)': 4.0, 'Indiana Jones and the Last Crusade (1989)': 5.0, 'Good, The Bad and The Ugly, The (1966)': 5.0, 'Dead Poets Society (1989)': 5.0, 'Dead Man Walking (1995)': 4.0, \"Joe's Apartment (1996)\": 2.0, 'GoldenEye (1995)': 4.0, 'M*A*S*H (1970)': 5.0, 'Something to Talk About (1995)': 2.0, 'Lightning Jack (1994)': 3.0, 'Big Green, The (1995)': 3.0, 'Cowboy Way, The (1994)': 3.0, \"Ulee's Gold (1997)\": 3.0, 'Addams Family Values (1993)': 2.0, '2001: A Space Odyssey (1968)': 5.0, 'Platoon (1986)': 3.0, 'Return of the Pink Panther, The (1974)': 4.0, 'Four Weddings and a Funeral (1994)': 5.0, 'Under Siege (1992)': 4.0, 'Ace Ventura: Pet Detective (1994)': 4.0, 'Die Hard: With a Vengeance (1995)': 4.0, 'Prefontaine (1997)': 5.0, 'Cops and Robbersons (1994)': 3.0, \"Pyromaniac's Love Story, A (1995)\": 3.0, 'Glory (1989)': 4.0, 'This Is Spinal Tap (1984)': 5.0, 'Multiplicity (1996)': 3.0, 'Tommy Boy (1995)': 4.0, 'Cool Hand Luke (1967)': 5.0, \"Monty Python's Life of Brian (1979)\": 4.0, 'Victor/Victoria (1982)': 4.0, 'Treasure of the Sierra Madre, The (1948)': 4.0, 'That Old Feeling (1997)': 4.0, 'Mrs. Doubtfire (1993)': 4.0, 'Professional, The (1994)': 4.0, 'True Lies (1994)': 5.0, 'Air Force One (1997)': 3.0, 'Speechless (1994)': 4.0, 'Sleepless in Seattle (1993)': 5.0, 'Young Frankenstein (1974)': 5.0, 'GoodFellas (1990)': 4.0, 'Fugitive, The (1993)': 5.0, 'In the Line of Fire (1993)': 5.0, 'Reality Bites (1994)': 3.0, 'Shadow, The (1994)': 3.0, 'Speed (1994)': 5.0, 'Batman Returns (1992)': 3.0, 'Conan the Barbarian (1981)': 3.0, 'Terminator 2: Judgment Day (1991)': 5.0, 'Strange Days (1995)': 3.0, 'Star Trek III: The Search for Spock (1984)': 4.0, \"Schindler's List (1993)\": 4.0, 'Sneakers (1992)': 4.0, 'Twelve Monkeys (1995)': 4.0, 'Switchblade Sisters (1975)': 2.0, 'Searching for Bobby Fischer (1993)': 4.0, 'Birdcage, The (1996)': 4.0, \"Singin' in the Rain (1952)\": 4.0, 'Shawshank Redemption, The (1994)': 5.0, 'Santa Clause, The (1994)': 4.0, 'Clear and Present Danger (1994)': 5.0, 'Dances with Wolves (1990)': 5.0, 'Deer Hunter, The (1978)': 3.0, 'Boot, Das (1981)': 4.0, 'Alien (1979)': 4.0, 'Speed 2: Cruise Control (1997)': 3.0, 'Maverick (1994)': 3.0, 'Jack (1996)': 3.0, 'Desperado (1995)': 3.0, 'Nutty Professor, The (1996)': 4.0, 'Batman (1989)': 3.0, 'Dave (1993)': 4.0, 'Crow, The (1994)': 3.0, 'Adventures of Robin Hood, The (1938)': 5.0, 'Blues Brothers, The (1980)': 5.0, 'Adventures of Priscilla, Queen of the Desert, The (1994)': 3.0, 'Raging Bull (1980)': 3.0, 'Batman & Robin (1997)': 4.0, 'Babe (1995)': 5.0, 'Raising Arizona (1987)': 3.0, 'Cliffhanger (1993)': 3.0, 'Top Gun (1986)': 5.0, 'Endless Summer 2, The (1994)': 3.0, 'Barcelona (1994)': 3.0, 'Twister (1996)': 4.0, 'Evil Dead II (1987)': 2.0, 'Sleepers (1996)': 4.0, 'Striptease (1996)': 2.0, 'Get Shorty (1995)': 5.0, 'So I Married an Axe Murderer (1993)': 2.0, 'Mission: Impossible (1996)': 4.0, 'Wizard of Oz, The (1939)': 5.0, 'Baby-Sitters Club, The (1995)': 2.0, 'When Harry Met Sally... (1989)': 5.0, 'Mother (1996)': 2.0, 'Star Trek IV: The Voyage Home (1986)': 5.0, 'Swimming with Sharks (1995)': 3.0, 'Net, The (1995)': 5.0, 'Private Benjamin (1980)': 4.0, 'Fargo (1996)': 5.0, 'Dumb & Dumber (1994)': 4.0, 'Stargate (1994)': 5.0, \"City Slickers II: The Legend of Curly's Gold (1994)\": 3.0, 'Hoop Dreams (1994)': 4.0, 'Young Guns (1988)': 3.0, 'Groundhog Day (1993)': 5.0, 'Bridge on the River Kwai, The (1957)': 5.0, 'Braveheart (1995)': 4.0, 'Vegas Vacation (1997)': 4.0, 'Michael (1996)': 4.0, 'Star Trek: The Wrath of Khan (1982)': 5.0, 'Muppet Treasure Island (1996)': 3.0, 'Nine Months (1995)': 4.0, 'Die Hard (1988)': 4.0, 'Bananas (1971)': 5.0, 'Forget Paris (1995)': 4.0, 'French Kiss (1995)': 5.0, 'Truth About Cats & Dogs, The (1996)': 4.0, 'Empire Strikes Back, The (1980)': 5.0, 'Dunston Checks In (1996)': 1.0, 'Star Trek: The Motion Picture (1979)': 3.0, 'Return of the Jedi (1983)': 5.0, 'Manchurian Candidate, The (1962)': 4.0, 'River Wild, The (1994)': 4.0, 'House Arrest (1996)': 3.0, 'Milk Money (1994)': 4.0, 'Godfather, The (1972)': 4.0, 'Low Down Dirty Shame, A (1994)': 3.0, 'Butch Cassidy and the Sundance Kid (1969)': 5.0, 'Wyatt Earp (1994)': 3.0, 'Star Wars (1977)': 5.0, 'To Kill a Mockingbird (1962)': 4.0, 'Magnificent Seven, The (1954)': 5.0, 'Back to the Future (1985)': 5.0, 'Hot Shots! Part Deux (1993)': 4.0, 'Great White Hype, The (1996)': 3.0, \"Dante's Peak (1997)\": 3.0, 'Matilda (1996)': 3.0, 'Junior (1994)': 4.0, 'Blade Runner (1982)': 4.0, 'Mars Attacks! (1996)': 3.0, 'My Favorite Year (1982)': 3.0, 'Broken Arrow (1996)': 3.0, 'Young Guns II (1990)': 2.0, 'Terminator, The (1984)': 5.0, 'Fish Called Wanda, A (1988)': 5.0, 'Down Periscope (1996)': 4.0, 'Hard Target (1993)': 4.0, 'Ed Wood (1994)': 3.0, 'Demolition Man (1993)': 3.0, 'Mask, The (1994)': 3.0, 'E.T. the Extra-Terrestrial (1982)': 3.0, 'Coneheads (1993)': 4.0, 'Man of the House (1995)': 3.0, 'That Thing You Do! (1996)': 4.0, 'Strictly Ballroom (1992)': 3.0, \"It's a Wonderful Life (1946)\": 5.0, 'Annie Hall (1977)': 4.0, 'Dragonheart (1996)': 4.0, 'Renaissance Man (1994)': 5.0, 'Kingpin (1996)': 4.0, 'In the Army Now (1994)': 4.0, 'Mighty Aphrodite (1995)': 3.0, \"Weekend at Bernie's (1989)\": 3.0, 'Clockwork Orange, A (1971)': 4.0, 'Heat (1995)': 3.0, 'Addicted to Love (1997)': 4.0, 'Program, The (1993)': 3.0, 'Grumpier Old Men (1995)': 4.0, 'Bad Boys (1995)': 4.0, 'American President, The (1995)': 5.0, 'Grease (1978)': 4.0, 'Full Metal Jacket (1987)': 4.0, 'Air Up There, The (1994)': 3.0, 'Home Alone (1990)': 4.0, 'Jimmy Hollywood (1994)': 3.0, 'I.Q. (1994)': 5.0, 'First Wives Club, The (1996)': 2.0, 'Boomerang (1992)': 3.0, 'Heathers (1989)': 3.0, 'While You Were Sleeping (1995)': 5.0, 'Star Trek: First Contact (1996)': 4.0, 'Independence Day (ID4) (1996)': 5.0, 'Lost World: Jurassic Park, The (1997)': 3.0, 'Raiders of the Lost Ark (1981)': 5.0, 'To Die For (1995)': 3.0, 'I Love Trouble (1994)': 3.0, 'Citizen Kane (1941)': 4.0, 'Sleeper (1973)': 4.0, 'Quiet Man, The (1952)': 5.0, 'Sting, The (1973)': 5.0, 'Up in Smoke (1978)': 3.0, 'Executive Decision (1996)': 3.0, 'Jeffrey (1995)': 3.0, 'Inkwell, The (1994)': 3.0, 'Serial Mom (1994)': 1.0, 'Pulp Fiction (1994)': 4.0, 'Supercop (1992)': 3.0, 'Major Payne (1994)': 3.0, 'Big Squeeze, The (1996)': 2.0, 'Days of Thunder (1990)': 5.0, 'Apocalypse Now (1979)': 4.0}\n"
     ]
    }
   ],
   "source": [
    "prefs = load_movielens()\n",
    "print(prefs['87'])"
   ]
  },
  {
   "cell_type": "code",
   "execution_count": 4,
   "metadata": {},
   "outputs": [],
   "source": [
    "# 划分数据集 \n",
    "\n",
    "def split_data(data, M, k, seed):\n",
    "    test = []\n",
    "    train = []\n",
    "    random.seed(seed)\n",
    "    for user, item in data:\n",
    "        if random.randint(0, M) == k:\n",
    "            test.append([user, item])\n",
    "        else:\n",
    "            train.append([user, item])\n",
    "    return train, test"
   ]
  },
  {
   "cell_type": "code",
   "execution_count": 5,
   "metadata": {},
   "outputs": [],
   "source": [
    "# 计算召回率\n",
    "def recall(train, test, N, GetRecommendation=None):\n",
    "    hit = 0\n",
    "    all = 0\n",
    "    for user in train.keys():\n",
    "        tu = test[user]\n",
    "        rank = GetRecommendation(user, N)\n",
    "        for item, pui in rank:\n",
    "            if item in tu:\n",
    "                hit += 1\n",
    "        all += len(tu)\n",
    "    return hit / (all * 1.0)"
   ]
  },
  {
   "cell_type": "code",
   "execution_count": 6,
   "metadata": {},
   "outputs": [],
   "source": [
    "# 计算准确率 \n",
    "def precision(train, test, N, GetRecommendation=None):\n",
    "    hit = 0\n",
    "    all = 0\n",
    "    for user in train.keys():\n",
    "        tu = test[user]\n",
    "        rank = GetRecommendation(user, N)\n",
    "        for item, pui in rank:\n",
    "            if item in tu:\n",
    "                hit += 1\n",
    "        all += N\n",
    "    return hit / (all * 1.0)"
   ]
  },
  {
   "cell_type": "code",
   "execution_count": 7,
   "metadata": {},
   "outputs": [],
   "source": [
    "# 计算覆盖率 \n",
    "def coverage(train, test, N, GetRecommendation=None):\n",
    "    recommend_items = set()\n",
    "    all_items = set()\n",
    "    for user in train.keys():\n",
    "        for item in train[user].kesy():\n",
    "            all_items.add(item)\n",
    "        rank = GetRecommendation(user, N)\n",
    "        for item, pui in rank:\n",
    "            recommend_items.add(item)\n",
    "    return len(recommend_items) / (len(all_items) * 1.0)"
   ]
  },
  {
   "cell_type": "code",
   "execution_count": 8,
   "metadata": {},
   "outputs": [],
   "source": [
    "# 计算流行度 \n",
    "def popularity(train, test, N, GetRecommendation=None):\n",
    "    item_popularity = dict()\n",
    "    for user, items in train.items():\n",
    "        for item in items.keys():\n",
    "            if item not in item_popularity:\n",
    "                item_popularity[item] = 0\n",
    "            item_popularity[item] += 1\n",
    "    ret = 0\n",
    "    n = 0\n",
    "    for user in train.keys():\n",
    "        rank = GetRecommendation(user, N)\n",
    "        for item, pui in rank:\n",
    "            ret += math.log(1 + item_popularity[item])\n",
    "            n += 1\n",
    "    ret /= n * 1.0\n",
    "    return ret"
   ]
  },
  {
   "cell_type": "code",
   "execution_count": 9,
   "metadata": {},
   "outputs": [],
   "source": [
    "# 生成字典 \n",
    "\n",
    "def FindRelativeDict(train):\n",
    "    movie2user = {}\n",
    "    moviepopularity ={}\n",
    "    for user,movies in train.items():\n",
    "        for movie in movies:\n",
    "            if movie not in movie2user.keys():\n",
    "                movie2user[movie] = set()\n",
    "            movie2user[movie].add(user)\n",
    "            if movie not in moviepopularity.keys():\n",
    "                moviepopularity[movie] = 0\n",
    "            # popularity 定义为电影被所有用户给过正反馈的次数\n",
    "            moviepopularity[movie] += 1\n",
    "    return movie2user,moviepopularity"
   ]
  },
  {
   "cell_type": "code",
   "execution_count": 10,
   "metadata": {},
   "outputs": [],
   "source": [
    "# 计算用户相似性字典\n",
    "\n",
    "def FindUserSimilarity(trainset,movie2user):\n",
    "    usersim = {}\n",
    "    for movie,users in movie2user.items():\n",
    "        for u in users:\n",
    "            usersim.setdefault(u,defaultdict(int))\n",
    "            for v in users:\n",
    "                if u==v:\n",
    "                    continue\n",
    "                else:\n",
    "                    usersim[u][v] +=1\n",
    "    index=0\n",
    "    for u,simiusers in usersim.items():\n",
    "        for v,count in simiusers.items():\n",
    "            index+=1\n",
    "            if index % 300000 == 0:\n",
    "                print(\"calculating....\" + str(index))\n",
    "            usersim[u][v] = count / math.sqrt(\n",
    "                    len(trainset[u]) * len(trainset[v]))\n",
    "    return usersim"
   ]
  },
  {
   "cell_type": "code",
   "execution_count": 11,
   "metadata": {},
   "outputs": [],
   "source": [
    "# 推荐用户\n",
    "\n",
    "def recommend(usersim,trainset,user,K,N):\n",
    "    userrec = {}\n",
    "    currentmovies = trainset[user]\n",
    "    for similar_user, similarity_factor in sorted(usersim[user].items(),\n",
    "                                                  key=itemgetter(1), reverse=True)[0:K]:\n",
    "        for movie in trainset[similar_user]:\n",
    "            if movie in currentmovies:\n",
    "                continue\n",
    "            userrec.setdefault(movie,0)\n",
    "            userrec[movie] += similarity_factor\n",
    "    recommendres = sorted(userrec.items(), key=itemgetter(1), reverse=True)[0:N]\n",
    "    return recommendres"
   ]
  },
  {
   "cell_type": "code",
   "execution_count": null,
   "metadata": {},
   "outputs": [],
   "source": [
    "def main():\n",
    "    prefs = load_movielens()\n",
    "    train, test = split_data(prefs, 8, 1, 1)\n",
    "    \n",
    "    movie2user,moviepopularity = FindRelativeDict(train)\n",
    "    usersim = FindUserSimilarity(train, movie2user)\n",
    "    \n",
    "    for user in prefs.keys():\n",
    "        recommend(usersim, train, user, 10, 80)\n",
    "        recall = recall(train, test, 80, recommend)\n",
    "        popularity = popularity(train, test, 80, recommend) \n",
    "        coverage = coverage(train, test, 80, recommend) \n",
    "        \n",
    "        print('recall: ', recall, '\\n')\n",
    "        print('precision: ', precision, '\\n')\n",
    "        print('Popularity: ', popularity, '\\n')\n",
    "        print('coverage: ', coverage, '\\n')"
   ]
  }
 ],
 "metadata": {
  "kernelspec": {
   "display_name": "Python 3",
   "language": "python",
   "name": "python3"
  },
  "language_info": {
   "codemirror_mode": {
    "name": "ipython",
    "version": 3
   },
   "file_extension": ".py",
   "mimetype": "text/x-python",
   "name": "python",
   "nbconvert_exporter": "python",
   "pygments_lexer": "ipython3",
   "version": "3.6.4"
  }
 },
 "nbformat": 4,
 "nbformat_minor": 2
}
