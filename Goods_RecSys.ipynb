{
 "cells": [
  {
   "cell_type": "code",
   "execution_count": 30,
   "metadata": {},
   "outputs": [],
   "source": [
    "##################################\n",
    "#\n",
    "#  name : lixinsong\n",
    "#  \n",
    "#  date : 2018-06-30 \n",
    "#\n",
    "###################################\n",
    "\n",
    "import numpy as np\n",
    "import math\n",
    "import random"
   ]
  },
  {
   "cell_type": "code",
   "execution_count": 31,
   "metadata": {},
   "outputs": [],
   "source": [
    "# 加载数据集，生成字典，key为用户\n",
    "def load_movielens(path=\"./ml-100k\"):\n",
    "    # 获取电影的标题\n",
    "    movies = {}\n",
    "    for line in open(path + \"/u.item\", encoding=\"latin-1\"):\n",
    "        id, title = line.split('|')[0:2]\n",
    "        movies[id] = title\n",
    "\n",
    "    prefs = {}\n",
    "    for line in open(path + '/u.data', encoding='latin-1'):\n",
    "        user, movieid, rating, ts = line.split('\\t')\n",
    "        prefs.setdefault(user, {})\n",
    "        prefs[user][movieid] = float(rating)\n",
    "    user_counts = 0\n",
    "    movie_counts = 0\n",
    "    for line in open(path + \"/u.info\", encoding='latin-1'):\n",
    "\n",
    "        count, content = line.strip().split(\" \")\n",
    "        if \"users\" in content:\n",
    "            user_counts = int(count)\n",
    "        elif \"items\" in content:\n",
    "            movie_counts = int(count)\n",
    "    return prefs, user_counts, movie_counts"
   ]
  },
  {
   "cell_type": "code",
   "execution_count": 32,
   "metadata": {},
   "outputs": [],
   "source": [
    "# 划分训练集和测试集\n",
    "def split_data(data, M, k, seed):\n",
    "    test = {}\n",
    "    train = {}\n",
    "    random.seed(seed)\n",
    "    for user, item in data.items():\n",
    "        if random.randint(0, M) == k:\n",
    "            test[user] = item\n",
    "        else:\n",
    "            train[user] = item\n",
    "    return train, test"
   ]
  },
  {
   "cell_type": "code",
   "execution_count": 33,
   "metadata": {},
   "outputs": [],
   "source": [
    "# 计算召回率\n",
    "def recall(train, test, N, rank):\n",
    "    hit = 0\n",
    "    all = 0\n",
    "    for user in train.keys():\n",
    "        tu = test[user]\n",
    "        for item, pui in rank:\n",
    "            if item in tu:\n",
    "                hit += 1\n",
    "        all += len(tu)\n",
    "    return hit / (all * 1.0)\n",
    "\n",
    "\n",
    "# 计算准确率\n",
    "def precision(train, test, N, rank):\n",
    "    hit = 0\n",
    "    all = 0\n",
    "    for user in train.keys():\n",
    "        tu = test[user]\n",
    "        for item, pui in rank:\n",
    "            if item in tu:\n",
    "                hit += 1\n",
    "        all += N\n",
    "    return hit / (all * 1.0)\n",
    "\n",
    "\n",
    "# 计算覆盖率\n",
    "def coverage(train, test, N, rank):\n",
    "    recommend_items = set()\n",
    "    all_items = set()\n",
    "    for user in train.keys():\n",
    "        for item in train[user].kesy():\n",
    "            all_items.add(item)\n",
    "\n",
    "        for item, pui in rank:\n",
    "            recommend_items.add(item)\n",
    "    return len(recommend_items) / (len(all_items) * 1.0)\n",
    "\n",
    "\n",
    "# 平均流行度\n",
    "def popularity(train, test, N, rank):\n",
    "    item_popularity = dict()\n",
    "    for user, items in train.items():\n",
    "        for item in items.keys():\n",
    "            if item not in item_popularity:\n",
    "                item_popularity[item] = 0\n",
    "            item_popularity[item] += 1\n",
    "    ret = 0\n",
    "    n = 0\n",
    "    for user in train.keys():\n",
    "        for item, pui in rank:\n",
    "            ret += math.log(1 + item_popularity[item])\n",
    "            n += 1\n",
    "    ret /= n * 1.0\n",
    "    return ret"
   ]
  },
  {
   "cell_type": "code",
   "execution_count": 34,
   "metadata": {},
   "outputs": [],
   "source": [
    "# 将数据集转化为行向量\n",
    "def data2mat(data, user_counts=943, movie_counts=1682):\n",
    "    # user_counts = len(data)\n",
    "    # print(\"user_counts = \", user_counts)\n",
    "    # movie_counts = len(set(sum([list(x.keys()) for x in data.values()], [])))\n",
    "    # print(\"movie_counts = \", movie_counts)\n",
    "    mat = np.zeros((user_counts, movie_counts), dtype=float)\n",
    "    for user, movies in data.items():\n",
    "        for movie, score in movies.items():\n",
    "            mat[int(user)-1][int(movie)-1] = float(int(score))\n",
    "\n",
    "    return mat"
   ]
  },
  {
   "cell_type": "code",
   "execution_count": 35,
   "metadata": {},
   "outputs": [],
   "source": [
    "# 余弦相似性\n",
    "def cos_sim(x, y):\n",
    "    numerator = np.matmul(x, y.T)  # x 和 y 之间的内积\n",
    "    denominator = np.sqrt(np.matmul(x, x.T)) * np.sqrt(np.matmul(y, y.T))\n",
    "    return (numerator / denominator)\n",
    "\n",
    "\n",
    "# 计算相似度\n",
    "def similarity(data):\n",
    "    m = np.shape(data)[0]  # 用户的数量\n",
    "    # 初始化相似矩阵\n",
    "    w = np.mat(np.zeros((m, m)))\n",
    "\n",
    "    for i in range(m):\n",
    "        for j in range(i, m):\n",
    "            if not j == i:\n",
    "                # 计算任意两行之间的相似度\n",
    "                w[i, j] = cos_sim(data[i], data[j])\n",
    "                w[j, i] = w[i, j]\n",
    "            else:\n",
    "                w[i, j] = 0\n",
    "    return w"
   ]
  },
  {
   "cell_type": "code",
   "execution_count": 40,
   "metadata": {},
   "outputs": [],
   "source": [
    "# 基于用户相似性为用户 user 推荐物品\n",
    "def user_based_recommend(data, w, user):\n",
    "    m, n = np.shape(data)\n",
    "    interaction = data[int(user)-1,]  # 用户 user 与物品信息\n",
    "    \n",
    "    # 找到用户 user 没有互动过的物品\n",
    "    not_inter = []\n",
    "    for i in range(n):\n",
    "\n",
    "        if interaction[i] == 0:  # 没有互动的物品\n",
    "            not_inter.append(i)\n",
    "    # print(not_inter)\n",
    "    # 对没有互动过的物品进行预测\n",
    "    predict = {}\n",
    "    for x in not_inter:\n",
    "        item = np.copy(data[:, x])  # 找到所有用户对商品 x 的互动信息\n",
    "\n",
    "        for i in range(m):  # 对每一个用户\n",
    "            if item[i] != 0:\n",
    "                if x not in predict:\n",
    "                    predict[x] = w[user, i] * item[i]\n",
    "                else:\n",
    "                    predict[x] = predict[x] + w[user, i] + item[i]\n",
    "    return sorted(predict.items(), key=lambda d: d[1], reverse=True)"
   ]
  },
  {
   "cell_type": "code",
   "execution_count": 41,
   "metadata": {},
   "outputs": [],
   "source": [
    "# 为用户推荐前 n 个物品\n",
    "def top_k(predict, n):\n",
    "\n",
    "    top_recom = []\n",
    "    len_result = len(predict)\n",
    "    if n >= len_result:\n",
    "        top_recom = predict\n",
    "    else:\n",
    "        for i in range(n):\n",
    "            top_recom.append(predict[i])\n",
    "    return top_recom"
   ]
  },
  {
   "cell_type": "code",
   "execution_count": 42,
   "metadata": {},
   "outputs": [],
   "source": [
    "# 主函数\n",
    "def main():\n",
    "    prefs, user_counts, movie_counts = load_movielens()\n",
    "    # print(prefs['1'])\n",
    "    print(\"用户数量:\", user_counts, \"电影数量：\", movie_counts)\n",
    "    train, test = split_data(prefs, 8, 1, 1)\n",
    "    # print(train[0],'\\n',test[0])\n",
    "    mat = data2mat(train)\n",
    "    w = similarity(mat)\n",
    "    rank = user_based_recommend(mat,w, 128)\n",
    "\n",
    "    print(top_k(rank, 5))"
   ]
  },
  {
   "cell_type": "code",
   "execution_count": 43,
   "metadata": {},
   "outputs": [
    {
     "name": "stdout",
     "output_type": "stream",
     "text": [
      "用户数量: 943 电影数量： 1682\n"
     ]
    },
    {
     "name": "stderr",
     "output_type": "stream",
     "text": [
      "D:\\song\\anaconda\\lib\\site-packages\\ipykernel_launcher.py:5: RuntimeWarning: invalid value encountered in double_scalars\n",
      "  \"\"\"\n"
     ]
    },
    {
     "name": "stdout",
     "output_type": "stream",
     "text": [
      "[(99, 1959.5358517432412), (126, 1657.5317585231726), (285, 1624.3654446265373), (287, 1507.6066975456386), (312, 1434.0599090683759)]\n"
     ]
    }
   ],
   "source": [
    "if __name__ == '__main__':\n",
    "\n",
    "    main()"
   ]
  },
  {
   "cell_type": "code",
   "execution_count": 9,
   "metadata": {},
   "outputs": [],
   "source": []
  },
  {
   "cell_type": "code",
   "execution_count": 10,
   "metadata": {},
   "outputs": [],
   "source": []
  },
  {
   "cell_type": "code",
   "execution_count": 11,
   "metadata": {},
   "outputs": [],
   "source": []
  },
  {
   "cell_type": "code",
   "execution_count": null,
   "metadata": {},
   "outputs": [],
   "source": []
  }
 ],
 "metadata": {
  "kernelspec": {
   "display_name": "Python 3",
   "language": "python",
   "name": "python3"
  },
  "language_info": {
   "codemirror_mode": {
    "name": "ipython",
    "version": 3
   },
   "file_extension": ".py",
   "mimetype": "text/x-python",
   "name": "python",
   "nbconvert_exporter": "python",
   "pygments_lexer": "ipython3",
   "version": "3.6.4"
  }
 },
 "nbformat": 4,
 "nbformat_minor": 2
}
